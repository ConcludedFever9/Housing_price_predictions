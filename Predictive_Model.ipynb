{
 "cells": [
  {
   "cell_type": "code",
   "execution_count": 1,
   "id": "36d5ceea-5b54-4cd2-b1e7-fc031ffb227f",
   "metadata": {},
   "outputs": [],
   "source": [
    "import pandas as pd\n",
    "import numpy as np\n",
    "import seaborn as sns\n",
    "import matplotlib.pyplot as plt\n",
    "from sklearn.model_selection import cross_val_score, train_test_split\n",
    "from sklearn.metrics import r2_score, mean_squared_error\n",
    "from sklearn.linear_model import LinearRegression\n",
    "from sklearn.preprocessing import StandardScaler, PolynomialFeatures\n",
    "from sklearn.linear_model import Lasso, LassoCV, Ridge, RidgeCV\n",
    "from sklearn.preprocessing import PolynomialFeatures"
   ]
  },
  {
   "cell_type": "code",
   "execution_count": 2,
   "id": "9f2c680c-2ed2-445d-857b-02c2eb26570f",
   "metadata": {},
   "outputs": [],
   "source": [
    "df = pd.read_csv('./datasets/train.csv')\n",
    "test = pd.read_csv('./datasets/test.csv')"
   ]
  },
  {
   "cell_type": "code",
   "execution_count": 3,
   "id": "3ce727b5-c903-438e-ac8e-28a6ca25f41d",
   "metadata": {},
   "outputs": [
    {
     "data": {
      "text/html": [
       "<div>\n",
       "<style scoped>\n",
       "    .dataframe tbody tr th:only-of-type {\n",
       "        vertical-align: middle;\n",
       "    }\n",
       "\n",
       "    .dataframe tbody tr th {\n",
       "        vertical-align: top;\n",
       "    }\n",
       "\n",
       "    .dataframe thead th {\n",
       "        text-align: right;\n",
       "    }\n",
       "</style>\n",
       "<table border=\"1\" class=\"dataframe\">\n",
       "  <thead>\n",
       "    <tr style=\"text-align: right;\">\n",
       "      <th></th>\n",
       "      <th>Id</th>\n",
       "      <th>PID</th>\n",
       "      <th>MS SubClass</th>\n",
       "      <th>MS Zoning</th>\n",
       "      <th>Lot Frontage</th>\n",
       "      <th>Lot Area</th>\n",
       "      <th>Street</th>\n",
       "      <th>Alley</th>\n",
       "      <th>Lot Shape</th>\n",
       "      <th>Land Contour</th>\n",
       "      <th>...</th>\n",
       "      <th>Screen Porch</th>\n",
       "      <th>Pool Area</th>\n",
       "      <th>Pool QC</th>\n",
       "      <th>Fence</th>\n",
       "      <th>Misc Feature</th>\n",
       "      <th>Misc Val</th>\n",
       "      <th>Mo Sold</th>\n",
       "      <th>Yr Sold</th>\n",
       "      <th>Sale Type</th>\n",
       "      <th>SalePrice</th>\n",
       "    </tr>\n",
       "  </thead>\n",
       "  <tbody>\n",
       "    <tr>\n",
       "      <th>0</th>\n",
       "      <td>109</td>\n",
       "      <td>533352170</td>\n",
       "      <td>60</td>\n",
       "      <td>RL</td>\n",
       "      <td>NaN</td>\n",
       "      <td>13517</td>\n",
       "      <td>Pave</td>\n",
       "      <td>NaN</td>\n",
       "      <td>IR1</td>\n",
       "      <td>Lvl</td>\n",
       "      <td>...</td>\n",
       "      <td>0</td>\n",
       "      <td>0</td>\n",
       "      <td>NaN</td>\n",
       "      <td>NaN</td>\n",
       "      <td>NaN</td>\n",
       "      <td>0</td>\n",
       "      <td>3</td>\n",
       "      <td>2010</td>\n",
       "      <td>WD</td>\n",
       "      <td>130500</td>\n",
       "    </tr>\n",
       "    <tr>\n",
       "      <th>1</th>\n",
       "      <td>544</td>\n",
       "      <td>531379050</td>\n",
       "      <td>60</td>\n",
       "      <td>RL</td>\n",
       "      <td>43.0</td>\n",
       "      <td>11492</td>\n",
       "      <td>Pave</td>\n",
       "      <td>NaN</td>\n",
       "      <td>IR1</td>\n",
       "      <td>Lvl</td>\n",
       "      <td>...</td>\n",
       "      <td>0</td>\n",
       "      <td>0</td>\n",
       "      <td>NaN</td>\n",
       "      <td>NaN</td>\n",
       "      <td>NaN</td>\n",
       "      <td>0</td>\n",
       "      <td>4</td>\n",
       "      <td>2009</td>\n",
       "      <td>WD</td>\n",
       "      <td>220000</td>\n",
       "    </tr>\n",
       "    <tr>\n",
       "      <th>2</th>\n",
       "      <td>153</td>\n",
       "      <td>535304180</td>\n",
       "      <td>20</td>\n",
       "      <td>RL</td>\n",
       "      <td>68.0</td>\n",
       "      <td>7922</td>\n",
       "      <td>Pave</td>\n",
       "      <td>NaN</td>\n",
       "      <td>Reg</td>\n",
       "      <td>Lvl</td>\n",
       "      <td>...</td>\n",
       "      <td>0</td>\n",
       "      <td>0</td>\n",
       "      <td>NaN</td>\n",
       "      <td>NaN</td>\n",
       "      <td>NaN</td>\n",
       "      <td>0</td>\n",
       "      <td>1</td>\n",
       "      <td>2010</td>\n",
       "      <td>WD</td>\n",
       "      <td>109000</td>\n",
       "    </tr>\n",
       "    <tr>\n",
       "      <th>3</th>\n",
       "      <td>318</td>\n",
       "      <td>916386060</td>\n",
       "      <td>60</td>\n",
       "      <td>RL</td>\n",
       "      <td>73.0</td>\n",
       "      <td>9802</td>\n",
       "      <td>Pave</td>\n",
       "      <td>NaN</td>\n",
       "      <td>Reg</td>\n",
       "      <td>Lvl</td>\n",
       "      <td>...</td>\n",
       "      <td>0</td>\n",
       "      <td>0</td>\n",
       "      <td>NaN</td>\n",
       "      <td>NaN</td>\n",
       "      <td>NaN</td>\n",
       "      <td>0</td>\n",
       "      <td>4</td>\n",
       "      <td>2010</td>\n",
       "      <td>WD</td>\n",
       "      <td>174000</td>\n",
       "    </tr>\n",
       "    <tr>\n",
       "      <th>4</th>\n",
       "      <td>255</td>\n",
       "      <td>906425045</td>\n",
       "      <td>50</td>\n",
       "      <td>RL</td>\n",
       "      <td>82.0</td>\n",
       "      <td>14235</td>\n",
       "      <td>Pave</td>\n",
       "      <td>NaN</td>\n",
       "      <td>IR1</td>\n",
       "      <td>Lvl</td>\n",
       "      <td>...</td>\n",
       "      <td>0</td>\n",
       "      <td>0</td>\n",
       "      <td>NaN</td>\n",
       "      <td>NaN</td>\n",
       "      <td>NaN</td>\n",
       "      <td>0</td>\n",
       "      <td>3</td>\n",
       "      <td>2010</td>\n",
       "      <td>WD</td>\n",
       "      <td>138500</td>\n",
       "    </tr>\n",
       "  </tbody>\n",
       "</table>\n",
       "<p>5 rows × 81 columns</p>\n",
       "</div>"
      ],
      "text/plain": [
       "    Id        PID  MS SubClass MS Zoning  Lot Frontage  Lot Area Street Alley  \\\n",
       "0  109  533352170           60        RL           NaN     13517   Pave   NaN   \n",
       "1  544  531379050           60        RL          43.0     11492   Pave   NaN   \n",
       "2  153  535304180           20        RL          68.0      7922   Pave   NaN   \n",
       "3  318  916386060           60        RL          73.0      9802   Pave   NaN   \n",
       "4  255  906425045           50        RL          82.0     14235   Pave   NaN   \n",
       "\n",
       "  Lot Shape Land Contour  ... Screen Porch Pool Area Pool QC Fence  \\\n",
       "0       IR1          Lvl  ...            0         0     NaN   NaN   \n",
       "1       IR1          Lvl  ...            0         0     NaN   NaN   \n",
       "2       Reg          Lvl  ...            0         0     NaN   NaN   \n",
       "3       Reg          Lvl  ...            0         0     NaN   NaN   \n",
       "4       IR1          Lvl  ...            0         0     NaN   NaN   \n",
       "\n",
       "  Misc Feature Misc Val Mo Sold Yr Sold  Sale Type  SalePrice  \n",
       "0          NaN        0       3    2010        WD      130500  \n",
       "1          NaN        0       4    2009        WD      220000  \n",
       "2          NaN        0       1    2010        WD      109000  \n",
       "3          NaN        0       4    2010        WD      174000  \n",
       "4          NaN        0       3    2010        WD      138500  \n",
       "\n",
       "[5 rows x 81 columns]"
      ]
     },
     "execution_count": 3,
     "metadata": {},
     "output_type": "execute_result"
    }
   ],
   "source": [
    "df.head()"
   ]
  },
  {
   "cell_type": "code",
   "execution_count": 4,
   "id": "2736a5f3-0965-49f7-ab41-5423cdf2b496",
   "metadata": {},
   "outputs": [
    {
     "data": {
      "text/plain": [
       "Index(['Id', 'PID', 'MS SubClass', 'MS Zoning', 'Lot Frontage', 'Lot Area',\n",
       "       'Street', 'Alley', 'Lot Shape', 'Land Contour', 'Utilities',\n",
       "       'Lot Config', 'Land Slope', 'Neighborhood', 'Condition 1',\n",
       "       'Condition 2', 'Bldg Type', 'House Style', 'Overall Qual',\n",
       "       'Overall Cond', 'Year Built', 'Year Remod/Add', 'Roof Style',\n",
       "       'Roof Matl', 'Exterior 1st', 'Exterior 2nd', 'Mas Vnr Type',\n",
       "       'Mas Vnr Area', 'Exter Qual', 'Exter Cond', 'Foundation', 'Bsmt Qual',\n",
       "       'Bsmt Cond', 'Bsmt Exposure', 'BsmtFin Type 1', 'BsmtFin SF 1',\n",
       "       'BsmtFin Type 2', 'BsmtFin SF 2', 'Bsmt Unf SF', 'Total Bsmt SF',\n",
       "       'Heating', 'Heating QC', 'Central Air', 'Electrical', '1st Flr SF',\n",
       "       '2nd Flr SF', 'Low Qual Fin SF', 'Gr Liv Area', 'Bsmt Full Bath',\n",
       "       'Bsmt Half Bath', 'Full Bath', 'Half Bath', 'Bedroom AbvGr',\n",
       "       'Kitchen AbvGr', 'Kitchen Qual', 'TotRms AbvGrd', 'Functional',\n",
       "       'Fireplaces', 'Fireplace Qu', 'Garage Type', 'Garage Yr Blt',\n",
       "       'Garage Finish', 'Garage Cars', 'Garage Area', 'Garage Qual',\n",
       "       'Garage Cond', 'Paved Drive', 'Wood Deck SF', 'Open Porch SF',\n",
       "       'Enclosed Porch', '3Ssn Porch', 'Screen Porch', 'Pool Area', 'Pool QC',\n",
       "       'Fence', 'Misc Feature', 'Misc Val', 'Mo Sold', 'Yr Sold', 'Sale Type',\n",
       "       'SalePrice'],\n",
       "      dtype='object')"
      ]
     },
     "execution_count": 4,
     "metadata": {},
     "output_type": "execute_result"
    }
   ],
   "source": [
    "df.columns"
   ]
  },
  {
   "cell_type": "markdown",
   "id": "6034f84a-5899-4915-93cb-32bbc53231ea",
   "metadata": {},
   "source": [
    "___\n",
    "## Create Baseline Model For Comparison"
   ]
  },
  {
   "cell_type": "code",
   "execution_count": 5,
   "id": "ef10a007-5a36-4c4e-9c1f-19945234508e",
   "metadata": {},
   "outputs": [
    {
     "name": "stdout",
     "output_type": "stream",
     "text": [
      "Training Score: 0.0\n",
      "Testing Score: -0.00025950239237215733\n",
      "Training RMSE: 79769.09260643576\n",
      "Testing RMSE: 77091.22733067861\n"
     ]
    }
   ],
   "source": [
    "# Before we feature select, we will run the baseline linear regression model, where we just guess the mean house price everytime\n",
    "\n",
    "X = np.full_like(df['SalePrice'], df['SalePrice'].mean())\n",
    "X = X.reshape(-1, 1)  \n",
    "y = df['SalePrice']\n",
    "\n",
    "X_train, X_test, y_train, y_test = train_test_split(X, y, test_size=0.2, random_state=42)\n",
    "\n",
    "lr = LinearRegression()\n",
    "lr.fit(X_train, y_train)\n",
    "\n",
    "print(f'Training Score: {lr.score(X_train, y_train)}')\n",
    "print(f'Testing Score: {lr.score(X_test, y_test)}')\n",
    "\n",
    "y_pred_train = lr.predict(X_train)\n",
    "y_pred_test = lr.predict(X_test)\n",
    "\n",
    "rmse_train = np.sqrt(mean_squared_error(y_train, y_pred_train))\n",
    "rmse_test = np.sqrt(mean_squared_error(y_test, y_pred_test))\n",
    "\n",
    "print(f'Training RMSE: {rmse_train}')\n",
    "print(f'Testing RMSE: {rmse_test}')\n",
    "\n",
    "# So our RMSE is 79356"
   ]
  },
  {
   "cell_type": "markdown",
   "id": "a05c1fc0-6daf-45fb-a2d8-593fe93bef8a",
   "metadata": {},
   "source": [
    "___\n",
    "## First Model (Hollistically Selected Features)"
   ]
  },
  {
   "cell_type": "code",
   "execution_count": 6,
   "id": "212125f6-d00a-4812-b71a-b9b136a18a6d",
   "metadata": {},
   "outputs": [],
   "source": [
    "# The predictors we will start with are:\n",
    "    # MS Zoning \n",
    "    # Neighborhood\n",
    "    # Bldg Type\n",
    "    # Overall Cond\n",
    "    # Year Remod/Add\n",
    "    # Exter Qual\n",
    "    # Bsmt Qual\n",
    "    # Garage Cond\n",
    "    # Year Remod/Add"
   ]
  },
  {
   "cell_type": "markdown",
   "id": "a76b59bd-9f32-4651-bc96-66b4ae9e6a08",
   "metadata": {},
   "source": [
    "___ \n",
    "\n",
    "## Data Cleaning"
   ]
  },
  {
   "cell_type": "code",
   "execution_count": 7,
   "id": "500747a4-b359-4fb6-98b8-8a95aa8cffd5",
   "metadata": {},
   "outputs": [],
   "source": [
    "# Clean the columns for the predictors we want to use"
   ]
  },
  {
   "cell_type": "code",
   "execution_count": 8,
   "id": "0724642d-92dc-44b0-88b1-274da9141d03",
   "metadata": {},
   "outputs": [
    {
     "data": {
      "text/html": [
       "<div>\n",
       "<style scoped>\n",
       "    .dataframe tbody tr th:only-of-type {\n",
       "        vertical-align: middle;\n",
       "    }\n",
       "\n",
       "    .dataframe tbody tr th {\n",
       "        vertical-align: top;\n",
       "    }\n",
       "\n",
       "    .dataframe thead th {\n",
       "        text-align: right;\n",
       "    }\n",
       "</style>\n",
       "<table border=\"1\" class=\"dataframe\">\n",
       "  <thead>\n",
       "    <tr style=\"text-align: right;\">\n",
       "      <th></th>\n",
       "      <th>Null Values</th>\n",
       "    </tr>\n",
       "    <tr>\n",
       "      <th>Feature</th>\n",
       "      <th></th>\n",
       "    </tr>\n",
       "  </thead>\n",
       "  <tbody>\n",
       "    <tr>\n",
       "      <th>MS Zoning</th>\n",
       "      <td>0</td>\n",
       "    </tr>\n",
       "    <tr>\n",
       "      <th>Neighborhood</th>\n",
       "      <td>0</td>\n",
       "    </tr>\n",
       "    <tr>\n",
       "      <th>Bldg Type</th>\n",
       "      <td>0</td>\n",
       "    </tr>\n",
       "    <tr>\n",
       "      <th>Overall Cond</th>\n",
       "      <td>0</td>\n",
       "    </tr>\n",
       "    <tr>\n",
       "      <th>Year Remod/Add</th>\n",
       "      <td>0</td>\n",
       "    </tr>\n",
       "    <tr>\n",
       "      <th>Exter Qual</th>\n",
       "      <td>0</td>\n",
       "    </tr>\n",
       "    <tr>\n",
       "      <th>Bsmt Qual</th>\n",
       "      <td>55</td>\n",
       "    </tr>\n",
       "    <tr>\n",
       "      <th>Garage Cond</th>\n",
       "      <td>114</td>\n",
       "    </tr>\n",
       "  </tbody>\n",
       "</table>\n",
       "</div>"
      ],
      "text/plain": [
       "                Null Values\n",
       "Feature                    \n",
       "MS Zoning                 0\n",
       "Neighborhood              0\n",
       "Bldg Type                 0\n",
       "Overall Cond              0\n",
       "Year Remod/Add            0\n",
       "Exter Qual                0\n",
       "Bsmt Qual                55\n",
       "Garage Cond             114"
      ]
     },
     "execution_count": 8,
     "metadata": {},
     "output_type": "execute_result"
    }
   ],
   "source": [
    "features = ['MS Zoning', 'Neighborhood', 'Bldg Type', 'Overall Cond', 'Year Remod/Add', 'Exter Qual', \n",
    "            'Bsmt Qual', 'Garage Cond']\n",
    "\n",
    "null_values_dict = {feature: df[feature].isnull().sum() for feature in features}\n",
    "pd.DataFrame(list(null_values_dict.items()), columns=['Feature', 'Null Values']).set_index('Feature')"
   ]
  },
  {
   "cell_type": "code",
   "execution_count": 9,
   "id": "18105858-7b0d-4ee4-b057-439ddd5efb39",
   "metadata": {},
   "outputs": [
    {
     "data": {
      "text/html": [
       "<div>\n",
       "<style scoped>\n",
       "    .dataframe tbody tr th:only-of-type {\n",
       "        vertical-align: middle;\n",
       "    }\n",
       "\n",
       "    .dataframe tbody tr th {\n",
       "        vertical-align: top;\n",
       "    }\n",
       "\n",
       "    .dataframe thead th {\n",
       "        text-align: right;\n",
       "    }\n",
       "</style>\n",
       "<table border=\"1\" class=\"dataframe\">\n",
       "  <thead>\n",
       "    <tr style=\"text-align: right;\">\n",
       "      <th></th>\n",
       "      <th>Null Values</th>\n",
       "    </tr>\n",
       "    <tr>\n",
       "      <th>Feature</th>\n",
       "      <th></th>\n",
       "    </tr>\n",
       "  </thead>\n",
       "  <tbody>\n",
       "    <tr>\n",
       "      <th>MS Zoning</th>\n",
       "      <td>0</td>\n",
       "    </tr>\n",
       "    <tr>\n",
       "      <th>Neighborhood</th>\n",
       "      <td>0</td>\n",
       "    </tr>\n",
       "    <tr>\n",
       "      <th>Bldg Type</th>\n",
       "      <td>0</td>\n",
       "    </tr>\n",
       "    <tr>\n",
       "      <th>Overall Cond</th>\n",
       "      <td>0</td>\n",
       "    </tr>\n",
       "    <tr>\n",
       "      <th>Year Remod/Add</th>\n",
       "      <td>0</td>\n",
       "    </tr>\n",
       "    <tr>\n",
       "      <th>Exter Qual</th>\n",
       "      <td>0</td>\n",
       "    </tr>\n",
       "    <tr>\n",
       "      <th>Bsmt Qual</th>\n",
       "      <td>0</td>\n",
       "    </tr>\n",
       "    <tr>\n",
       "      <th>Garage Cond</th>\n",
       "      <td>0</td>\n",
       "    </tr>\n",
       "  </tbody>\n",
       "</table>\n",
       "</div>"
      ],
      "text/plain": [
       "                Null Values\n",
       "Feature                    \n",
       "MS Zoning                 0\n",
       "Neighborhood              0\n",
       "Bldg Type                 0\n",
       "Overall Cond              0\n",
       "Year Remod/Add            0\n",
       "Exter Qual                0\n",
       "Bsmt Qual                 0\n",
       "Garage Cond               0"
      ]
     },
     "execution_count": 9,
     "metadata": {},
     "output_type": "execute_result"
    }
   ],
   "source": [
    "# After looking at the data dictionary, we see a null value in Bsmt Qual and Garage Cond \n",
    "# We will replace those with better values \n",
    "\n",
    "df['Bsmt Qual'] = df['Bsmt Qual'].fillna('Nb') # Nb for 'no basement'\n",
    "df['Garage Cond'] = df['Garage Cond'].fillna('Ng') # Nb for 'no garage'\n",
    "\n",
    "null_values_dict = {feature: df[feature].isnull().sum() for feature in features}\n",
    "pd.DataFrame(list(null_values_dict.items()), columns=['Feature', 'Null Values']).set_index('Feature')\n",
    "# No null values now "
   ]
  },
  {
   "cell_type": "markdown",
   "id": "da78542c-88ae-4779-868e-5e5e5117a87d",
   "metadata": {},
   "source": [
    "___ \n",
    "## Create Dummy Columns"
   ]
  },
  {
   "cell_type": "code",
   "execution_count": 10,
   "id": "934a6045-8743-4674-b5f0-d265d83b2e03",
   "metadata": {},
   "outputs": [
    {
     "data": {
      "text/plain": [
       "MS Zoning         object\n",
       "Neighborhood      object\n",
       "Bldg Type         object\n",
       "Overall Cond       int64\n",
       "Year Remod/Add     int64\n",
       "Exter Qual        object\n",
       "Bsmt Qual         object\n",
       "Garage Cond       object\n",
       "dtype: object"
      ]
     },
     "execution_count": 10,
     "metadata": {},
     "output_type": "execute_result"
    }
   ],
   "source": [
    "# Check the dtypes for the columns so we can dummify properly \n",
    "df[features].dtypes"
   ]
  },
  {
   "cell_type": "code",
   "execution_count": 11,
   "id": "6db6931f-ec6c-49a6-b44e-8d406b4d171c",
   "metadata": {},
   "outputs": [],
   "source": [
    "# All object types will be dummfied \n",
    "# Year Remod/Add should be left as is"
   ]
  },
  {
   "cell_type": "code",
   "execution_count": 12,
   "id": "10933aba-6ad1-4362-8a5e-100e482d9078",
   "metadata": {},
   "outputs": [],
   "source": [
    "# Let us first rename these columns so there are no spaces\n",
    "df.rename(columns={col: col.replace(' ', '_') for col in features}, inplace=True)"
   ]
  },
  {
   "cell_type": "code",
   "execution_count": 13,
   "id": "98ad131b-f7cb-4a47-9af0-03ff38ea59ba",
   "metadata": {},
   "outputs": [],
   "source": [
    "# Dummify all features except Year_Remod/Add\n",
    "\n",
    "feats = ['MS_Zoning', 'Neighborhood', 'Bldg_Type', 'Exter_Qual', 'Bsmt_Qual', 'Garage_Cond']\n",
    "\n",
    "for column in feats:\n",
    "    dummies = pd.get_dummies(df[column], prefix=column, drop_first=True)\n",
    "    df = pd.concat([df, dummies], axis=1)\n",
    "    df.drop(column, axis=1, inplace=True)"
   ]
  },
  {
   "cell_type": "code",
   "execution_count": 14,
   "id": "2097ba40-ed9a-4bc9-a430-c71c7aea894a",
   "metadata": {},
   "outputs": [],
   "source": [
    "# Now we will make a model using the features we selected in the beginning\n",
    "# Collect all of these dummified features\n",
    "columns_after_index = df.columns[75:] # Used iloc to find the cutoff for our dummy columns\n",
    "feats1 = columns_after_index.tolist()\n",
    "feats1.append('Year_Remod/Add')\n",
    "feats1.append('Overall_Cond')\n",
    "# feats1 is a list of all of our features now"
   ]
  },
  {
   "cell_type": "code",
   "execution_count": 15,
   "id": "71c1368a-e293-404b-ac74-e84179607063",
   "metadata": {},
   "outputs": [
    {
     "name": "stdout",
     "output_type": "stream",
     "text": [
      "Training Score: 0.7639556808388009\n",
      "Testing Score: 0.7402778662111642\n"
     ]
    }
   ],
   "source": [
    "# We can make our model now\n",
    "X = df[feats1]\n",
    "y = df['SalePrice']\n",
    "\n",
    "# Make Train/Test split\n",
    "X_train, X_test, y_train, y_test = train_test_split(X, y, test_size=0.2, random_state=12)\n",
    "\n",
    "lr = LinearRegression()\n",
    "lr.fit(X_train, y_train)\n",
    "\n",
    "print(f'Training Score: {lr.score(X_train, y_train)}')\n",
    "print(f'Testing Score: {lr.score(X_test, y_test)}')\n",
    "\n",
    "# We see pretty good model performance! Good training and testing score, indicating bias-varaince balance"
   ]
  },
  {
   "cell_type": "code",
   "execution_count": 16,
   "id": "7336817c-c0a3-4626-b5c1-df48cb26a80a",
   "metadata": {},
   "outputs": [
    {
     "name": "stdout",
     "output_type": "stream",
     "text": [
      "Training RMSE: 38093.41910647393\n",
      "Testing RMSE: 41992.27033615909\n"
     ]
    }
   ],
   "source": [
    "# Check RMSE to compare with baseline model\n",
    "y_pred_train = lr.predict(X_train)\n",
    "y_pred_test = lr.predict(X_test)\n",
    "\n",
    "rmse_train = np.sqrt(mean_squared_error(y_train, y_pred_train))\n",
    "rmse_test = np.sqrt(mean_squared_error(y_test, y_pred_test))\n",
    "\n",
    "print(f'Training RMSE: {rmse_train}')\n",
    "print(f'Testing RMSE: {rmse_test}')"
   ]
  },
  {
   "cell_type": "code",
   "execution_count": 17,
   "id": "7bdf847d-c09d-49a7-9a8b-f57a7ce55c0d",
   "metadata": {},
   "outputs": [
    {
     "name": "stderr",
     "output_type": "stream",
     "text": [
      "<ipython-input-17-022bb63860b8>:10: SettingWithCopyWarning: \n",
      "A value is trying to be set on a copy of a slice from a DataFrame.\n",
      "Try using .loc[row_indexer,col_indexer] = value instead\n",
      "\n",
      "See the caveats in the documentation: https://pandas.pydata.org/pandas-docs/stable/user_guide/indexing.html#returning-a-view-versus-a-copy\n",
      "  submission['SalePrice'] = prediction\n"
     ]
    }
   ],
   "source": [
    "# Before we move on, we will submit this model to Kaggle\n",
    "lr = LinearRegression()\n",
    "lr.fit(X_train, y_train)\n",
    "\n",
    "prediction = []\n",
    "for i in range(878):\n",
    "    prediction.append(lr.predict(X_train)[i]) \n",
    "    \n",
    "submission = test[['Id']]\n",
    "submission['SalePrice'] = prediction\n",
    "submission.to_csv('./datasets/submission_1.csv', index = None)"
   ]
  },
  {
   "cell_type": "markdown",
   "id": "5ab51c73-ccf9-4dbd-b80b-da8e8ff9b4ff",
   "metadata": {},
   "source": [
    "___\n",
    "## Ridge and LASSO Aid For Feature Selection"
   ]
  },
  {
   "cell_type": "code",
   "execution_count": 18,
   "id": "01da7465-b77d-4954-a23e-77cdcb633a49",
   "metadata": {},
   "outputs": [],
   "source": [
    "# Next we will regularize our data so we can run Ridge and LASSO\n",
    "\n",
    "sc = StandardScaler()\n",
    "Z_train = sc.fit_transform(X_train)\n",
    "Z_test = sc.transform(X_test)"
   ]
  },
  {
   "cell_type": "code",
   "execution_count": 19,
   "id": "76900679-09da-4dee-8376-0145f3d29de7",
   "metadata": {},
   "outputs": [
    {
     "data": {
      "text/plain": [
       "4.0370172585965545"
      ]
     },
     "execution_count": 19,
     "metadata": {},
     "output_type": "execute_result"
    }
   ],
   "source": [
    "# Now we run a Ridge regression\n",
    "alphas = np.logspace(0, 5, 100)\n",
    "ridge_cv = RidgeCV(alphas = alphas, cv = 5)\n",
    "ridge_cv.fit(Z_train, y_train)\n",
    "ridge_cv.alpha_\n",
    "# This is the optimal alpha, indicating regularization did not help much"
   ]
  },
  {
   "cell_type": "code",
   "execution_count": 20,
   "id": "5735015d-f0b1-451d-ba82-2bc9ff816746",
   "metadata": {},
   "outputs": [
    {
     "name": "stdout",
     "output_type": "stream",
     "text": [
      "0.7638023061103111\n",
      "0.7400596185925026\n"
     ]
    }
   ],
   "source": [
    "# Here are our R2 scores using the optimal alpha\n",
    "print(ridge_cv.score(Z_train, y_train))\n",
    "print(ridge_cv.score(Z_test, y_test))"
   ]
  },
  {
   "cell_type": "code",
   "execution_count": 21,
   "id": "4917ce4c-6e3f-454e-84a7-791fe3dcf496",
   "metadata": {},
   "outputs": [
    {
     "name": "stderr",
     "output_type": "stream",
     "text": [
      "/Users/tannerzuleeg/opt/anaconda3/lib/python3.8/site-packages/sklearn/linear_model/_coordinate_descent.py:614: UserWarning: Coordinate descent without L1 regularization may lead to unexpected results and is discouraged. Set l1_ratio > 0 to add L1 regularization.\n",
      "  model = cd_fast.enet_coordinate_descent_gram(\n",
      "/Users/tannerzuleeg/opt/anaconda3/lib/python3.8/site-packages/sklearn/linear_model/_coordinate_descent.py:614: ConvergenceWarning: Objective did not converge. You might want to increase the number of iterations. Duality gap: 940464403112.9297, tolerance: 821747658.9178712\n",
      "  model = cd_fast.enet_coordinate_descent_gram(\n",
      "/Users/tannerzuleeg/opt/anaconda3/lib/python3.8/site-packages/sklearn/linear_model/_coordinate_descent.py:614: UserWarning: Coordinate descent without L1 regularization may lead to unexpected results and is discouraged. Set l1_ratio > 0 to add L1 regularization.\n",
      "  model = cd_fast.enet_coordinate_descent_gram(\n",
      "/Users/tannerzuleeg/opt/anaconda3/lib/python3.8/site-packages/sklearn/linear_model/_coordinate_descent.py:614: ConvergenceWarning: Objective did not converge. You might want to increase the number of iterations. Duality gap: 937528582697.9717, tolerance: 811772203.47079\n",
      "  model = cd_fast.enet_coordinate_descent_gram(\n",
      "/Users/tannerzuleeg/opt/anaconda3/lib/python3.8/site-packages/sklearn/linear_model/_coordinate_descent.py:614: UserWarning: Coordinate descent without L1 regularization may lead to unexpected results and is discouraged. Set l1_ratio > 0 to add L1 regularization.\n",
      "  model = cd_fast.enet_coordinate_descent_gram(\n",
      "/Users/tannerzuleeg/opt/anaconda3/lib/python3.8/site-packages/sklearn/linear_model/_coordinate_descent.py:614: ConvergenceWarning: Objective did not converge. You might want to increase the number of iterations. Duality gap: 956460241190.2363, tolerance: 836001128.4876195\n",
      "  model = cd_fast.enet_coordinate_descent_gram(\n",
      "/Users/tannerzuleeg/opt/anaconda3/lib/python3.8/site-packages/sklearn/linear_model/_coordinate_descent.py:614: UserWarning: Coordinate descent without L1 regularization may lead to unexpected results and is discouraged. Set l1_ratio > 0 to add L1 regularization.\n",
      "  model = cd_fast.enet_coordinate_descent_gram(\n",
      "/Users/tannerzuleeg/opt/anaconda3/lib/python3.8/site-packages/sklearn/linear_model/_coordinate_descent.py:614: ConvergenceWarning: Objective did not converge. You might want to increase the number of iterations. Duality gap: 998629980778.2363, tolerance: 797195255.445468\n",
      "  model = cd_fast.enet_coordinate_descent_gram(\n",
      "/Users/tannerzuleeg/opt/anaconda3/lib/python3.8/site-packages/sklearn/linear_model/_coordinate_descent.py:614: UserWarning: Coordinate descent without L1 regularization may lead to unexpected results and is discouraged. Set l1_ratio > 0 to add L1 regularization.\n",
      "  model = cd_fast.enet_coordinate_descent_gram(\n",
      "/Users/tannerzuleeg/opt/anaconda3/lib/python3.8/site-packages/sklearn/linear_model/_coordinate_descent.py:614: ConvergenceWarning: Objective did not converge. You might want to increase the number of iterations. Duality gap: 889133365942.9971, tolerance: 766024821.7612499\n",
      "  model = cd_fast.enet_coordinate_descent_gram(\n"
     ]
    },
    {
     "data": {
      "text/plain": [
       "50.25125628140704"
      ]
     },
     "execution_count": 21,
     "metadata": {},
     "output_type": "execute_result"
    }
   ],
   "source": [
    "# Set up a list of Lasso alphas to check\n",
    "l_alphas = np.linspace(0, 1000, 200)\n",
    "lasso_cv = LassoCV(alphas = l_alphas)\n",
    "lasso_cv.fit(Z_train, y_train)\n",
    "\n",
    "# The optimal value of alpha is 15, which seems a bit low\n",
    "lasso_cv.alpha_"
   ]
  },
  {
   "cell_type": "code",
   "execution_count": 22,
   "id": "84085ada-5064-40a8-8fd7-1e1e36042f1a",
   "metadata": {},
   "outputs": [
    {
     "data": {
      "text/plain": [
       "['MS_Zoning_FV', 'MS_Zoning_I (all)', 'Neighborhood_NWAmes']"
      ]
     },
     "execution_count": 22,
     "metadata": {},
     "output_type": "execute_result"
    }
   ],
   "source": [
    "# These are the features it gave coefficients of zero on, thus we should drop them\n",
    "list(np.array(feats1)[lasso_cv.coef_ == 0])"
   ]
  },
  {
   "cell_type": "markdown",
   "id": "46c190f5-9925-4ef1-86b5-71d8ca4b06b4",
   "metadata": {},
   "source": [
    "___\n",
    "## Redo Model With New Feature Set"
   ]
  },
  {
   "cell_type": "code",
   "execution_count": 23,
   "id": "7a848a32-7d59-4972-919b-b92565709506",
   "metadata": {},
   "outputs": [
    {
     "data": {
      "text/plain": [
       "49"
      ]
     },
     "execution_count": 23,
     "metadata": {},
     "output_type": "execute_result"
    }
   ],
   "source": [
    "\n",
    "feats2 = [element for element in feats1 if element not in list(np.array(feats1)[lasso_cv.coef_ == 0])]\n",
    "len(feats2)"
   ]
  },
  {
   "cell_type": "code",
   "execution_count": 24,
   "id": "d9ee09eb-d6a4-4150-bf8f-87ad5c69442d",
   "metadata": {},
   "outputs": [],
   "source": [
    "# Redo model\n",
    "X = df[feats2]\n",
    "y = df['SalePrice']\n",
    "\n",
    "# Make Train/Test split\n",
    "X_train, X_test, y_train, y_test = train_test_split(X, y, test_size=0.2, random_state=42)"
   ]
  },
  {
   "cell_type": "code",
   "execution_count": 25,
   "id": "7d5fb464-3d03-4b8f-8997-d80874427ccc",
   "metadata": {},
   "outputs": [
    {
     "name": "stdout",
     "output_type": "stream",
     "text": [
      "Training Score: 0.7665248334245606\n",
      "Testing Score: 0.7263332812532179\n"
     ]
    }
   ],
   "source": [
    "model = LinearRegression()\n",
    "model.fit(X_train, y_train)\n",
    "\n",
    "print(f'Training Score: {model.score(X_train, y_train)}')\n",
    "print(f'Testing Score: {model.score(X_test, y_test)}')\n",
    "# Slightly better model performance"
   ]
  },
  {
   "cell_type": "code",
   "execution_count": 26,
   "id": "1e3b0d0e-313d-415f-91ad-01ca85938862",
   "metadata": {},
   "outputs": [],
   "source": [
    "# Now we will add interaction terms and rerun our model\n",
    "\n",
    "X = df[feats2]\n",
    "y = df['SalePrice']\n",
    "\n",
    "poly = PolynomialFeatures(degree=2, interaction_only=False, include_bias=False)\n",
    "\n",
    "X_overfit = poly.fit_transform(X)\n",
    "\n",
    "X_train, X_test, y_train, y_test = train_test_split(\n",
    "    X_overfit,\n",
    "    y,\n",
    "    test_size=0.2,\n",
    "    random_state=42\n",
    ")"
   ]
  },
  {
   "cell_type": "code",
   "execution_count": 27,
   "id": "90a65485-09e9-4449-a4b9-eabb96e0cdf1",
   "metadata": {},
   "outputs": [],
   "source": [
    "# Reularize\n",
    "sc = StandardScaler()\n",
    "Z_train = sc.fit_transform(X_train)\n",
    "Z_test = sc.transform(X_test)"
   ]
  },
  {
   "cell_type": "code",
   "execution_count": 28,
   "id": "f6543a36-1ab3-437d-865f-80331cd80806",
   "metadata": {},
   "outputs": [
    {
     "name": "stdout",
     "output_type": "stream",
     "text": [
      "Training Score: 0.8280582910019311\n",
      "Testing Score: -1.803139029724081e+24\n"
     ]
    }
   ],
   "source": [
    "# Test model performance\n",
    "lr = LinearRegression()\n",
    "lr.fit(Z_train, y_train)\n",
    "print(f'Training Score: {lr.score(Z_train, y_train)}')\n",
    "print(f'Testing Score: {lr.score(Z_test, y_test)}')\n",
    "\n",
    "# This model is way too overfit and thus adding interaction terms hurt the model prospects"
   ]
  }
 ],
 "metadata": {
  "kernelspec": {
   "display_name": "Python 3",
   "language": "python",
   "name": "python3"
  },
  "language_info": {
   "codemirror_mode": {
    "name": "ipython",
    "version": 3
   },
   "file_extension": ".py",
   "mimetype": "text/x-python",
   "name": "python",
   "nbconvert_exporter": "python",
   "pygments_lexer": "ipython3",
   "version": "3.8.8"
  }
 },
 "nbformat": 4,
 "nbformat_minor": 5
}
